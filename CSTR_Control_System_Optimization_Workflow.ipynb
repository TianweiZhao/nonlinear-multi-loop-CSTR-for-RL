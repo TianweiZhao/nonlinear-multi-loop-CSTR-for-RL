{
 "cells": [
  {
   "cell_type": "markdown",
   "metadata": {},
   "source": [
    "# CSTR Control System Optimization Workflow\n",
    "This presents the streamlined workflow for optimizing the control of a CSTR system comparing traditional static PID optimization and reinforcement learning approaches"
   ]
  },
  {
   "cell_type": "markdown",
   "metadata": {},
   "source": [
    "## 1. System Overview\n",
    "\n",
    "The project consists of these key components\n",
    "\n",
    "* CSTR Environment: A non-linear CSTR (MIMO) model implemented as a Gym environment\n",
    "* Static PID Optimization: Baseline approach using differential evolution\n",
    "* Reinforcement Learning: Advanced approach using TD3, SAC, and CIRL algorithms\n",
    "* Data collection: Generation of simulation data for offline trainining\n",
    "* Offline training: Training RL agents without direct environment interaction"
   ]
  },
  {
   "cell_type": "markdown",
   "metadata": {},
   "source": [
    "## 2. Pre-requisites\n",
    "\n",
    "* CSTR_model_plus.py: CSTR environment implementation\n",
    "* static_pid_gain.py: Static PID optimization using differential evolution\n",
    "* policy_network.py: Neural network architectures for RL algorithms\n",
    "* RL_algorithms.py: Implementation of TD3, SAC, and CIRL algorithms\n",
    "* Replay_Buffer.py: Replay buffer for storing transitions\n",
    "* gen_sim_data.py: Data generation for offline learning\n",
    "* Offline_training.py: Offline training procedures\n"
   ]
  },
  {
   "cell_type": "markdown",
   "metadata": {},
   "source": [
    "## 3. Step-by-Step Workflow"
   ]
  },
  {
   "cell_type": "markdown",
   "metadata": {},
   "source": [
    "### Step 1: Set Up the CSTR Environment\n",
    "\n",
    "The CSTR environment simulates the following:\n",
    "* Two controlled variables: Concentration of B (Cb) and Volume (V)\n",
    "* Two control inputs: Cooling temperature (Tc) and Inlet flow rate (Fin)\n",
    "* Two PID controllers for setpoint tracking\n"
   ]
  },
  {
   "cell_type": "code",
   "execution_count": 3,
   "metadata": {},
   "outputs": [],
   "source": [
    "from CSTR_model_plus import CSTRRLEnv\n",
    "\n",
    "# Create environment\n",
    "env = CSTRRLEnv(\n",
    "    simulation_steps=150,\n",
    "    dt=1,\n",
    "    uncertainty_level=0.00,   # parameter uncertainty\n",
    "    noise_level=0.00,         # measurement noise\n",
    "    actuator_delay_steps=0,   # actuator delay\n",
    "    transport_delay_steps=0,  # transport delay\n",
    "    enable_disturbances=False # process disturbance\n",
    ")"
   ]
  },
  {
   "cell_type": "markdown",
   "metadata": {},
   "source": [
    "### Step 2: Baseline-Optimize Static PID Gains\n",
    "\n",
    "Use differential evolution to find optimal static PID gains as a benchmark"
   ]
  },
  {
   "cell_type": "code",
   "execution_count": 4,
   "metadata": {},
   "outputs": [
    {
     "name": "stdout",
     "output_type": "stream",
     "text": [
      "Starting optimization with 25 iterations and population size 15\n",
      "differential_evolution step 1: f(x)= 0.26898213295899487\n",
      "differential_evolution step 2: f(x)= 0.25326794054031004\n",
      "differential_evolution step 3: f(x)= 0.2528533210697036\n",
      "differential_evolution step 4: f(x)= 0.2528533210697036\n",
      "differential_evolution step 5: f(x)= 0.24341013583477525\n",
      "differential_evolution step 6: f(x)= 0.24341013583477525\n",
      "differential_evolution step 7: f(x)= 0.24341013583477525\n",
      "differential_evolution step 8: f(x)= 0.24341013583477525\n",
      "differential_evolution step 9: f(x)= 0.24341013583477525\n",
      "differential_evolution step 10: f(x)= 0.24341013583477525\n",
      "differential_evolution step 11: f(x)= 0.24341013583477525\n",
      "differential_evolution step 12: f(x)= 0.24341013583477525\n",
      "differential_evolution step 13: f(x)= 0.24341013583477525\n",
      "differential_evolution step 14: f(x)= 0.24341013583477525\n",
      "differential_evolution step 15: f(x)= 0.24341013583477525\n",
      "differential_evolution step 16: f(x)= 0.24341013583477525\n",
      "differential_evolution step 17: f(x)= 0.24341013583477525\n",
      "differential_evolution step 18: f(x)= 0.24341013583477525\n",
      "differential_evolution step 19: f(x)= 0.24341013583477525\n",
      "differential_evolution step 20: f(x)= 0.24341013583477525\n",
      "differential_evolution step 21: f(x)= 0.23201884883043747\n",
      "differential_evolution step 22: f(x)= 0.2289269653176652\n",
      "differential_evolution step 23: f(x)= 0.2289269653176652\n",
      "differential_evolution step 24: f(x)= 0.2289269653176652\n",
      "differential_evolution step 25: f(x)= 0.2289269653176652\n",
      "Polishing solution with 'L-BFGS-B'\n",
      "Optimization completed in 445.22 seconds\n",
      "Optimal normalized gains: [ 1.         -0.92673532 -1.         -0.90735101  0.4981752  -0.4965164 ]\n",
      "Final function value: 0.22292189785703406\n",
      "Optimal PID gains:\n",
      "  Kp_Cb: 25.0000\n",
      "  Ki_Cb: 0.7326\n",
      "  Kd_Cb: 0.0200\n",
      "  Kp_V:  0.0463\n",
      "  Ki_V:  1.4982\n",
      "  Kd_V:  0.2592\n",
      "Optimal gains saved to ./results/optimal_pid_gains.npy\n",
      "Plot saved to ./results/plots/schedule_1.png\n",
      "Plot saved to ./results/plots/schedule_2.png\n",
      "Plot saved to ./results/plots/schedule_3.png\n",
      "Plot saved to ./results/plots/schedule_4.png\n",
      "\n",
      "Evaluation Results Summary:\n",
      "  schedule_1 (setpoints [0.12, 0.35, 0.48, 0.71, 0.84]):\n",
      "    Mean Reward: -0.2014\n",
      "    MSE Cb: 0.002521\n",
      "    MSE V: 0.000000\n",
      "  schedule_2 (setpoints [0.86, 0.73, 0.61, 0.48, 0.25]):\n",
      "    Mean Reward: -2.4364\n",
      "    MSE Cb: 0.023627\n",
      "    MSE V: 0.000000\n",
      "  schedule_3 (setpoints [0.25, 0.3, 0.65, 0.3, 0.25]):\n",
      "    Mean Reward: -0.4483\n",
      "    MSE Cb: 0.005404\n",
      "    MSE V: 0.000000\n",
      "  schedule_4 (setpoints [0.86, 0.71, 0.24, 0.63, 0.82]):\n",
      "    Mean Reward: -2.8274\n",
      "    MSE Cb: 0.028722\n",
      "    MSE V: 0.000000\n",
      "Plot saved to ./results/plots/schedule_1.png\n",
      "Plot saved to ./results/plots/schedule_2.png\n",
      "Plot saved to ./results/plots/schedule_3.png\n",
      "Plot saved to ./results/plots/schedule_4.png\n",
      "\n",
      "Evaluation Results Summary:\n",
      "  schedule_1 (setpoints [0.12, 0.35, 0.48, 0.71, 0.84]):\n",
      "    Mean Reward: -0.2014\n",
      "    MSE Cb: 0.002521\n",
      "    MSE V: 0.000000\n",
      "  schedule_2 (setpoints [0.86, 0.73, 0.61, 0.48, 0.25]):\n",
      "    Mean Reward: -2.4364\n",
      "    MSE Cb: 0.023627\n",
      "    MSE V: 0.000000\n",
      "  schedule_3 (setpoints [0.25, 0.3, 0.65, 0.3, 0.25]):\n",
      "    Mean Reward: -0.4483\n",
      "    MSE Cb: 0.005404\n",
      "    MSE V: 0.000000\n",
      "  schedule_4 (setpoints [0.86, 0.71, 0.24, 0.63, 0.82]):\n",
      "    Mean Reward: -2.8274\n",
      "    MSE Cb: 0.028722\n",
      "    MSE V: 0.000000\n"
     ]
    }
   ],
   "source": [
    "from static_pid_gain import StaticPIDOptimizer, run_optimization\n",
    "\n",
    "# Run optimization to find optimal PID gains\n",
    "optimal_gains = run_optimization(env, maxiter=25, popsize=15)\n",
    "\n",
    "# Test the optimized gains on vairous setpoint schedules\n",
    "optimizer = StaticPIDOptimizer(env)\n",
    "test_schedules = [\n",
    "    [0.12, 0.35, 0.48, 0.71, 0.84],  # Increasing steps\n",
    "    [0.86, 0.73, 0.61, 0.48, 0.25],  # Decreasing steps\n",
    "    [0.25, 0.30, 0.65, 0.30, 0.25],  # Peak\n",
    "    [0.86, 0.71, 0.24, 0.63, 0.82]   # Valley\n",
    "]\n",
    "\n",
    "results = optimizer.evaluate_and_plot(optimal_gains, test_schedules, save_plots=True)"
   ]
  },
  {
   "cell_type": "markdown",
   "metadata": {},
   "source": [
    "### Step 3: Generate Dataset for Offline Training\n",
    "\n",
    "Generate a diverse dataset for training RL agents offline"
   ]
  },
  {
   "cell_type": "code",
   "execution_count": 5,
   "metadata": {},
   "outputs": [
    {
     "name": "stderr",
     "output_type": "stream",
     "text": [
      "100%|██████████| 12/12 [00:00<00:00, 19.59it/s]\n"
     ]
    },
    {
     "name": "stdout",
     "output_type": "stream",
     "text": [
      "Generated dataset with 900 transitions from 12 episodes\n"
     ]
    },
    {
     "name": "stderr",
     "output_type": "stream",
     "text": [
      "100%|██████████| 12/12 [00:00<00:00, 23.08it/s]\n"
     ]
    },
    {
     "name": "stdout",
     "output_type": "stream",
     "text": [
      "Generated dataset with 900 transitions from 12 episodes\n"
     ]
    },
    {
     "name": "stderr",
     "output_type": "stream",
     "text": [
      "100%|██████████| 12/12 [00:00<00:00, 15.33it/s]\n"
     ]
    },
    {
     "name": "stdout",
     "output_type": "stream",
     "text": [
      "Generated dataset with 900 transitions from 12 episodes\n"
     ]
    },
    {
     "name": "stderr",
     "output_type": "stream",
     "text": [
      "100%|██████████| 12/12 [00:00<00:00, 24.45it/s]\n"
     ]
    },
    {
     "name": "stdout",
     "output_type": "stream",
     "text": [
      "Generated dataset with 900 transitions from 12 episodes\n",
      "Combined 4 datasets with a total of 3600 transitions\n",
      "Dataset contains 3600 transitions from approximately 0 episodes\n",
      "Reward statistics:\n",
      "  Mean: -0.2002\n",
      "  Std: 0.1661\n",
      "  Min: -0.6054\n",
      "  Max: -0.0000\n",
      "Action statistics:\n",
      "  Action 0 - Mean: 0.1881, Std: 0.4510\n",
      "  Action 1 - Mean: 0.1389, Std: 0.4271\n",
      "  Action 2 - Mean: 0.0697, Std: 0.4231\n",
      "  Action 3 - Mean: 0.1324, Std: 0.4381\n",
      "  Action 4 - Mean: 0.0682, Std: 0.4246\n",
      "  Action 5 - Mean: 0.0300, Std: 0.4269\n",
      "PID gains statistics:\n",
      "  Kp_Cb - Mean: 12.8218, Std: 6.7644\n",
      "  Ki_Cb - Mean: 11.3894, Std: 4.2709\n",
      "  Kd_Cb - Mean: 5.3579, Std: 2.1112\n",
      "  Kp_V - Mean: 0.5662, Std: 0.2190\n",
      "  Ki_V - Mean: 1.0682, Std: 0.4246\n",
      "  Kd_V - Mean: 0.5198, Std: 0.2113\n",
      "Unique Cb setpoints: [0.6        0.60672853 0.61678003 0.65       0.6522109  0.65680617\n",
      " 0.65823299 0.66498338 0.66964771 0.66987681 0.67423633 0.68334455\n",
      " 0.68380888 0.69998031 0.7        0.70793974 0.70920801 0.71025486\n",
      " 0.72572191 0.72873115 0.737191   0.73932627 0.75       0.76086466\n",
      " 0.77304247 0.77827919 0.79200405 0.79361817 0.8        0.85\n",
      " 0.86679773 0.87961518 0.88139631 0.9       ]\n",
      "Dataset saved to ./data/cstr_diverse_dataset.pkl\n"
     ]
    }
   ],
   "source": [
    "from gen_sim_data import DataGenerator, generate_diverse_dataset\n",
    "\n",
    "# Create environment (same)\n",
    "env = CSTRRLEnv(\n",
    "    simulation_steps=150,\n",
    "    dt=1.0,\n",
    "    uncertainty_level=0.00,\n",
    "    noise_level=0.00,\n",
    "    actuator_delay_steps=0,\n",
    "    transport_delay_steps=0,\n",
    "    enable_disturbances=False\n",
    ")\n",
    "\n",
    "# Generate diverse dataset with multiple exploration strategies\n",
    "dataset = generate_diverse_dataset(env, n_episodes=50, save_dir=\"./data\")"
   ]
  },
  {
   "cell_type": "markdown",
   "metadata": {},
   "source": [
    "### Step 4: Train RL Agents using Offline Data\n",
    "\n",
    "Train CIRL, TD3, and SAC agents using the generated dataset:"
   ]
  },
  {
   "cell_type": "code",
   "execution_count": 2,
   "metadata": {},
   "outputs": [
    {
     "name": "stdout",
     "output_type": "stream",
     "text": [
      "Loaded dataset from ./data/cstr_diverse_dataset.pkl with 3600 transitions\n",
      "Using device: cuda\n",
      "Loaded 3600 transitions into replay buffer (capacity: 4600)\n",
      "\n",
      "===== Training TD3 Agent =====\n"
     ]
    },
    {
     "name": "stderr",
     "output_type": "stream",
     "text": [
      "Training TD3: 100%|██████████| 20000/20000 [04:31<00:00, 73.79it/s, actor_loss=5.7988, critic_loss=2.9448]\n"
     ]
    },
    {
     "name": "stdout",
     "output_type": "stream",
     "text": [
      "Plotting training curves...\n",
      "Evaluating on setpoint schedule 1: [0.12, 0.35, 0.48, 0.71, 0.84]\n",
      "  Episode 1: Reward = -50.91, Steps = 200\n",
      "  Episode 2: Reward = -50.91, Steps = 200\n",
      "  Episode 3: Reward = -50.91, Steps = 200\n",
      "  Average for schedule 1: Reward = -50.91, Steps = 200.0\n",
      "Evaluating on setpoint schedule 2: [0.86, 0.73, 0.61, 0.48, 0.25]\n",
      "  Episode 1: Reward = -61.50, Steps = 200\n",
      "  Episode 2: Reward = -61.50, Steps = 200\n",
      "  Episode 3: Reward = -61.50, Steps = 200\n",
      "  Average for schedule 2: Reward = -61.50, Steps = 200.0\n",
      "Evaluating on setpoint schedule 3: [0.25, 0.3, 0.65, 0.3, 0.25]\n",
      "  Episode 1: Reward = -21.74, Steps = 200\n",
      "  Episode 2: Reward = -21.74, Steps = 200\n",
      "  Episode 3: Reward = -21.74, Steps = 200\n",
      "  Average for schedule 3: Reward = -21.74, Steps = 200.0\n",
      "Evaluating on setpoint schedule 4: [0.86, 0.71, 0.24, 0.63, 0.82]\n",
      "  Episode 1: Reward = -76.72, Steps = 200\n",
      "  Episode 2: Reward = -76.72, Steps = 200\n",
      "  Episode 3: Reward = -76.72, Steps = 200\n",
      "  Average for schedule 4: Reward = -76.72, Steps = 200.0\n",
      "Overall Evaluation Results:\n",
      "  Mean Reward: -52.72\n",
      "  Mean Steps: 200.0\n",
      "Training time: 271.42 seconds\n",
      "Final evaluation: Reward = -52.72, Steps = 200.0\n",
      "\n",
      "===== Training SAC Agent =====\n"
     ]
    },
    {
     "name": "stderr",
     "output_type": "stream",
     "text": [
      "Training SAC: 100%|██████████| 20000/20000 [06:04<00:00, 54.88it/s, actor_loss=2028.1100, critic_loss=4.7036]   \n"
     ]
    },
    {
     "name": "stdout",
     "output_type": "stream",
     "text": [
      "Plotting training curves...\n",
      "Evaluating on setpoint schedule 1: [0.12, 0.35, 0.48, 0.71, 0.84]\n",
      "  Episode 1: Reward = -20.64, Steps = 200\n",
      "  Episode 2: Reward = -20.64, Steps = 200\n",
      "  Episode 3: Reward = -20.64, Steps = 200\n",
      "  Average for schedule 1: Reward = -20.64, Steps = 200.0\n",
      "Evaluating on setpoint schedule 2: [0.86, 0.73, 0.61, 0.48, 0.25]\n",
      "  Episode 1: Reward = -32.65, Steps = 200\n",
      "  Episode 2: Reward = -32.65, Steps = 200\n",
      "  Episode 3: Reward = -32.65, Steps = 200\n",
      "  Average for schedule 2: Reward = -32.65, Steps = 200.0\n",
      "Evaluating on setpoint schedule 3: [0.25, 0.3, 0.65, 0.3, 0.25]\n",
      "  Episode 1: Reward = -11.19, Steps = 200\n",
      "  Episode 2: Reward = -11.19, Steps = 200\n",
      "  Episode 3: Reward = -11.19, Steps = 200\n",
      "  Average for schedule 3: Reward = -11.19, Steps = 200.0\n",
      "Evaluating on setpoint schedule 4: [0.86, 0.71, 0.24, 0.63, 0.82]\n",
      "  Episode 1: Reward = -36.69, Steps = 200\n",
      "  Episode 2: Reward = -36.69, Steps = 200\n",
      "  Episode 3: Reward = -36.69, Steps = 200\n",
      "  Average for schedule 4: Reward = -36.69, Steps = 200.0\n",
      "Overall Evaluation Results:\n",
      "  Mean Reward: -25.29\n",
      "  Mean Steps: 200.0\n",
      "Training time: 364.78 seconds\n",
      "Final evaluation: Reward = -25.29, Steps = 200.0\n",
      "\n",
      "===== Training CIRL Agent =====\n"
     ]
    },
    {
     "name": "stderr",
     "output_type": "stream",
     "text": [
      "Training CIRL: 100%|██████████| 20000/20000 [04:11<00:00, 79.67it/s, actor_loss=-4.1480, critic_loss=0.9370]\n"
     ]
    },
    {
     "name": "stdout",
     "output_type": "stream",
     "text": [
      "Plotting training curves...\n",
      "Evaluating on setpoint schedule 1: [0.12, 0.35, 0.48, 0.71, 0.84]\n",
      "  Episode 1: Reward = -50.91, Steps = 200\n",
      "  Episode 2: Reward = -50.91, Steps = 200\n",
      "  Episode 3: Reward = -50.91, Steps = 200\n",
      "  Average for schedule 1: Reward = -50.91, Steps = 200.0\n",
      "Evaluating on setpoint schedule 2: [0.86, 0.73, 0.61, 0.48, 0.25]\n",
      "  Episode 1: Reward = -61.50, Steps = 200\n",
      "  Episode 2: Reward = -61.50, Steps = 200\n",
      "  Episode 3: Reward = -61.50, Steps = 200\n",
      "  Average for schedule 2: Reward = -61.50, Steps = 200.0\n",
      "Evaluating on setpoint schedule 3: [0.25, 0.3, 0.65, 0.3, 0.25]\n",
      "  Episode 1: Reward = -21.74, Steps = 200\n",
      "  Episode 2: Reward = -21.74, Steps = 200\n",
      "  Episode 3: Reward = -21.74, Steps = 200\n",
      "  Average for schedule 3: Reward = -21.74, Steps = 200.0\n",
      "Evaluating on setpoint schedule 4: [0.86, 0.71, 0.24, 0.63, 0.82]\n",
      "  Episode 1: Reward = -76.72, Steps = 200\n",
      "  Episode 2: Reward = -76.72, Steps = 200\n",
      "  Episode 3: Reward = -76.72, Steps = 200\n",
      "  Average for schedule 4: Reward = -76.72, Steps = 200.0\n",
      "Overall Evaluation Results:\n",
      "  Mean Reward: -52.72\n",
      "  Mean Steps: 200.0\n",
      "Training time: 251.40 seconds\n",
      "Final evaluation: Reward = -52.72, Steps = 200.0\n",
      "\n",
      "===== Comparing Agent Performance =====\n",
      "TD3 agent: Reward = -52.72, Training time = 271.42 s\n",
      "SAC agent: Reward = -25.29, Training time = 364.78 s\n",
      "CIRL agent: Reward = -52.72, Training time = 251.40 s\n"
     ]
    }
   ],
   "source": [
    "from Offline_training import train_all_agents_offline\n",
    "\n",
    "# Train all agent types\n",
    "\n",
    "results = train_all_agents_offline(\n",
    "    dataset_path=\"./data/cstr_diverse_dataset.pkl\",\n",
    "    n_updates=20000,\n",
    "    batch_size=256,\n",
    "    save_dir=\"./results\",\n",
    "    seed=42,\n",
    "    verbose=True\n",
    ")\n",
    "\n",
    "# # Or train a specific agent type\n",
    "# from Offline_training import set_seed, load_offline_dataset, offline_train, evaluate_agent\n",
    "# from RL_algorithms import create_agent\n",
    "# from Replay_Buffer import ReplayBuffer\n",
    "# from CSTR_model_plus import CSTRRLEnv\n",
    "# import torch\n",
    "\n",
    "# # Set random seed\n",
    "# set_seed(42)\n",
    "\n",
    "# # Create environment for evaluation\n",
    "# env = CSTRRLEnv(\n",
    "#     simulation_steps=150,\n",
    "#     dt=1.0,\n",
    "#     uncertainty_level=0.00,\n",
    "#     noise_level=0.00,\n",
    "#     actuator_delay_steps=0,\n",
    "#     transport_delay_steps=0,\n",
    "#     enable_disturbances=False\n",
    "# )\n",
    "\n",
    "# # load dataset\n",
    "# dataset = load_offline_dataset(\"./data/cstr_diverse_dataset.pkl\")\n",
    "\n",
    "# # Create agent (choose from \"td3\", \"sac\", \"cirl\")\n",
    "# agent_type = \"cirl\"\n",
    "# state_dim = env.observation_space.shape[0]\n",
    "# action_dim = env.action_space.shape[0]\n",
    "# action_high = env.action_space.high[0]\n",
    "# device = torch.device(\"cuda\" if torch.cuda.is_available() else \"cpu\")\n",
    "\n",
    "# agent = create_agent(agent_type, state_dim, action_dim, action_high, device)\n",
    "\n",
    "# # Create replay buffer and load dataset\n",
    "# replay_buffer = ReplayBuffer(len(dataset['states']) + 1000, state_dim, action_dim, device)\n",
    "# replay_buffer.load_from_dataset(dataset)\n",
    "\n",
    "# # Train agent\n",
    "# stats = offline_train(agent, replay_buffer, n_updates=1000, batch_size=256, save_dir=f\"./results/{agent_type}\")\n",
    "\n",
    "# # Evaluate agent\n",
    "# mean_reward, mean_steps = evaluate_agent(agent, env, n_episodes=5, max_steps=200, verbose=True)"
   ]
  },
  {
   "cell_type": "markdown",
   "metadata": {},
   "source": [
    "### Step 5: Fine-tune RL Agents Online\n",
    "\n",
    "Further improve the pre-trained RL agents through idrect environment interactions"
   ]
  },
  {
   "cell_type": "code",
   "execution_count": 5,
   "metadata": {},
   "outputs": [
    {
     "name": "stdout",
     "output_type": "stream",
     "text": [
      "Error loading model: [Errno 2] No such file or directory: './results/td3/td3_offline_final'\n",
      "Starting with a freshly initialized model\n"
     ]
    },
    {
     "name": "stderr",
     "output_type": "stream",
     "text": [
      "  0%|          | 0/100 [00:00<?, ?it/s]"
     ]
    },
    {
     "name": "stderr",
     "output_type": "stream",
     "text": [
      "Episode 5/100 | Reward: -12.11 | Buffer: 750/10000 | Noise: 0.292:   5%|▌         | 5/100 [00:03<01:39,  1.05s/it]"
     ]
    },
    {
     "name": "stdout",
     "output_type": "stream",
     "text": [
      "\n",
      "Evaluation at episode 5: Reward = -38.11, Steps = 150.0\n"
     ]
    },
    {
     "name": "stderr",
     "output_type": "stream",
     "text": [
      "Episode 10/100 | Reward: -8.68 | Buffer: 1500/10000 | Noise: 0.282:  10%|█         | 10/100 [00:15<03:29,  2.33s/it]"
     ]
    },
    {
     "name": "stdout",
     "output_type": "stream",
     "text": [
      "\n",
      "Evaluation at episode 10: Reward = -38.11, Steps = 150.0\n",
      "Saved checkpoint to ./results/fine_tuned_td3/models/td3_episode_10\n"
     ]
    },
    {
     "name": "stderr",
     "output_type": "stream",
     "text": [
      "Episode 15/100 | Reward: -30.09 | Buffer: 2250/10000 | Noise: 0.272:  15%|█▌        | 15/100 [00:27<03:33,  2.51s/it]"
     ]
    },
    {
     "name": "stdout",
     "output_type": "stream",
     "text": [
      "\n",
      "Evaluation at episode 15: Reward = -38.11, Steps = 150.0\n"
     ]
    },
    {
     "name": "stderr",
     "output_type": "stream",
     "text": [
      "Episode 20/100 | Reward: -34.24 | Buffer: 3000/10000 | Noise: 0.262:  20%|██        | 20/100 [00:39<03:22,  2.53s/it]"
     ]
    },
    {
     "name": "stdout",
     "output_type": "stream",
     "text": [
      "\n",
      "Evaluation at episode 20: Reward = -38.11, Steps = 150.0\n",
      "Saved checkpoint to ./results/fine_tuned_td3/models/td3_episode_20\n"
     ]
    },
    {
     "name": "stderr",
     "output_type": "stream",
     "text": [
      "Episode 25/100 | Reward: -52.00 | Buffer: 3750/10000 | Noise: 0.252:  25%|██▌       | 25/100 [00:51<03:10,  2.54s/it]"
     ]
    },
    {
     "name": "stdout",
     "output_type": "stream",
     "text": [
      "\n",
      "Evaluation at episode 25: Reward = -38.11, Steps = 150.0\n"
     ]
    },
    {
     "name": "stderr",
     "output_type": "stream",
     "text": [
      "Episode 30/100 | Reward: -26.80 | Buffer: 4500/10000 | Noise: 0.242:  30%|███       | 30/100 [01:03<02:56,  2.52s/it]"
     ]
    },
    {
     "name": "stdout",
     "output_type": "stream",
     "text": [
      "\n",
      "Evaluation at episode 30: Reward = -38.11, Steps = 150.0\n",
      "Saved checkpoint to ./results/fine_tuned_td3/models/td3_episode_30\n"
     ]
    },
    {
     "name": "stderr",
     "output_type": "stream",
     "text": [
      "Episode 35/100 | Reward: -20.69 | Buffer: 5250/10000 | Noise: 0.232:  35%|███▌      | 35/100 [01:14<02:43,  2.52s/it]"
     ]
    },
    {
     "name": "stdout",
     "output_type": "stream",
     "text": [
      "\n",
      "Evaluation at episode 35: Reward = -38.11, Steps = 150.0\n"
     ]
    },
    {
     "name": "stderr",
     "output_type": "stream",
     "text": [
      "Episode 40/100 | Reward: -18.26 | Buffer: 6000/10000 | Noise: 0.222:  40%|████      | 40/100 [01:26<02:31,  2.53s/it]"
     ]
    },
    {
     "name": "stdout",
     "output_type": "stream",
     "text": [
      "\n",
      "Evaluation at episode 40: Reward = -38.11, Steps = 150.0\n",
      "Saved checkpoint to ./results/fine_tuned_td3/models/td3_episode_40\n"
     ]
    },
    {
     "name": "stderr",
     "output_type": "stream",
     "text": [
      "Episode 45/100 | Reward: -55.06 | Buffer: 6750/10000 | Noise: 0.212:  45%|████▌     | 45/100 [01:38<02:16,  2.48s/it]"
     ]
    },
    {
     "name": "stdout",
     "output_type": "stream",
     "text": [
      "\n",
      "Evaluation at episode 45: Reward = -38.11, Steps = 150.0\n"
     ]
    },
    {
     "name": "stderr",
     "output_type": "stream",
     "text": [
      "Episode 50/100 | Reward: -32.57 | Buffer: 7500/10000 | Noise: 0.202:  50%|█████     | 50/100 [01:50<02:05,  2.50s/it]"
     ]
    },
    {
     "name": "stdout",
     "output_type": "stream",
     "text": [
      "\n",
      "Evaluation at episode 50: Reward = -38.11, Steps = 150.0\n",
      "Saved checkpoint to ./results/fine_tuned_td3/models/td3_episode_50\n"
     ]
    },
    {
     "name": "stderr",
     "output_type": "stream",
     "text": [
      "Episode 55/100 | Reward: -27.59 | Buffer: 8250/10000 | Noise: 0.192:  55%|█████▌    | 55/100 [02:01<01:50,  2.46s/it]"
     ]
    },
    {
     "name": "stdout",
     "output_type": "stream",
     "text": [
      "\n",
      "Evaluation at episode 55: Reward = -38.11, Steps = 150.0\n"
     ]
    },
    {
     "name": "stderr",
     "output_type": "stream",
     "text": [
      "Episode 60/100 | Reward: -10.91 | Buffer: 9000/10000 | Noise: 0.182:  60%|██████    | 60/100 [02:13<01:39,  2.48s/it]"
     ]
    },
    {
     "name": "stdout",
     "output_type": "stream",
     "text": [
      "\n",
      "Evaluation at episode 60: Reward = -38.11, Steps = 150.0\n",
      "Saved checkpoint to ./results/fine_tuned_td3/models/td3_episode_60\n"
     ]
    },
    {
     "name": "stderr",
     "output_type": "stream",
     "text": [
      "Episode 65/100 | Reward: -12.46 | Buffer: 9750/10000 | Noise: 0.172:  65%|██████▌   | 65/100 [02:24<01:26,  2.48s/it]"
     ]
    },
    {
     "name": "stdout",
     "output_type": "stream",
     "text": [
      "\n",
      "Evaluation at episode 65: Reward = -38.11, Steps = 150.0\n"
     ]
    },
    {
     "name": "stderr",
     "output_type": "stream",
     "text": [
      "Episode 70/100 | Reward: -9.57 | Buffer: 10000/10000 | Noise: 0.162:  70%|███████   | 70/100 [02:36<01:13,  2.44s/it] "
     ]
    },
    {
     "name": "stdout",
     "output_type": "stream",
     "text": [
      "\n",
      "Evaluation at episode 70: Reward = -38.11, Steps = 150.0\n",
      "Saved checkpoint to ./results/fine_tuned_td3/models/td3_episode_70\n"
     ]
    },
    {
     "name": "stderr",
     "output_type": "stream",
     "text": [
      "Episode 75/100 | Reward: -50.62 | Buffer: 10000/10000 | Noise: 0.152:  75%|███████▌  | 75/100 [02:47<01:00,  2.41s/it]"
     ]
    },
    {
     "name": "stdout",
     "output_type": "stream",
     "text": [
      "\n",
      "Evaluation at episode 75: Reward = -38.11, Steps = 150.0\n"
     ]
    },
    {
     "name": "stderr",
     "output_type": "stream",
     "text": [
      "Episode 80/100 | Reward: -54.49 | Buffer: 10000/10000 | Noise: 0.142:  80%|████████  | 80/100 [02:58<00:48,  2.43s/it]"
     ]
    },
    {
     "name": "stdout",
     "output_type": "stream",
     "text": [
      "\n",
      "Evaluation at episode 80: Reward = -38.11, Steps = 150.0\n",
      "Saved checkpoint to ./results/fine_tuned_td3/models/td3_episode_80\n"
     ]
    },
    {
     "name": "stderr",
     "output_type": "stream",
     "text": [
      "Episode 85/100 | Reward: -18.25 | Buffer: 10000/10000 | Noise: 0.132:  85%|████████▌ | 85/100 [03:10<00:36,  2.41s/it]"
     ]
    },
    {
     "name": "stdout",
     "output_type": "stream",
     "text": [
      "\n",
      "Evaluation at episode 85: Reward = -38.11, Steps = 150.0\n"
     ]
    },
    {
     "name": "stderr",
     "output_type": "stream",
     "text": [
      "Episode 90/100 | Reward: -23.25 | Buffer: 10000/10000 | Noise: 0.122:  90%|█████████ | 90/100 [03:21<00:24,  2.41s/it]"
     ]
    },
    {
     "name": "stdout",
     "output_type": "stream",
     "text": [
      "\n",
      "Evaluation at episode 90: Reward = -38.11, Steps = 150.0\n",
      "Saved checkpoint to ./results/fine_tuned_td3/models/td3_episode_90\n"
     ]
    },
    {
     "name": "stderr",
     "output_type": "stream",
     "text": [
      "Episode 95/100 | Reward: -52.51 | Buffer: 10000/10000 | Noise: 0.112:  95%|█████████▌| 95/100 [03:32<00:12,  2.40s/it]"
     ]
    },
    {
     "name": "stdout",
     "output_type": "stream",
     "text": [
      "\n",
      "Evaluation at episode 95: Reward = -38.11, Steps = 150.0\n"
     ]
    },
    {
     "name": "stderr",
     "output_type": "stream",
     "text": [
      "Episode 100/100 | Reward: -21.66 | Buffer: 10000/10000 | Noise: 0.102: 100%|██████████| 100/100 [03:43<00:00,  2.24s/it]"
     ]
    },
    {
     "name": "stdout",
     "output_type": "stream",
     "text": [
      "\n",
      "Evaluation at episode 100: Reward = -38.11, Steps = 150.0\n",
      "Saved checkpoint to ./results/fine_tuned_td3/models/td3_episode_100\n"
     ]
    },
    {
     "name": "stderr",
     "output_type": "stream",
     "text": [
      "\n"
     ]
    },
    {
     "name": "stdout",
     "output_type": "stream",
     "text": [
      "Fine-tuning complete. Final model saved to ./results/fine_tuned_td3/td3_fine_tuned_final\n"
     ]
    },
    {
     "data": {
      "image/png": "[encoded data removed]",
      "text/plain": [
       "<Figure size 1000x600 with 1 Axes>"
      ]
     },
     "metadata": {},
     "output_type": "display_data"
    },
    {
     "data": {
      "image/png": "[encoded data removed]",
      "text/plain": [
       "<Figure size 1500x500 with 3 Axes>"
      ]
     },
     "metadata": {},
     "output_type": "display_data"
    }
   ],
   "source": [
    "from online_fine_tuning import online_fine_tune, load_agent\n",
    "from CSTR_model_plus import CSTRRLEnv\n",
    "import torch\n",
    "\n",
    "# Set up a more challenging environment for fine-tuning\n",
    "env = CSTRRLEnv(\n",
    "    simulation_steps=150,\n",
    "    dt=1.0,\n",
    "    uncertainty_level=0.00,     # Higher uncertainty\n",
    "    noise_level=0.00,          # Higher noise\n",
    "    actuator_delay_steps=0,    # Increased delays\n",
    "    transport_delay_steps=0,\n",
    "    enable_disturbances=False   # Enable disturbances\n",
    ")\n",
    "\n",
    "# Load a pre-trained agent\n",
    "agent_type = \"td3\"  # Choose from: \"td3\", \"sac\", \"cirl\"\n",
    "device = torch.device(\"cuda\" if torch.cuda.is_available() else \"cpu\")\n",
    "state_dim = env.observation_space.shape[0]\n",
    "action_dim = env.action_space.shape[0]\n",
    "action_high = env.action_space.high[0]\n",
    "\n",
    "agent = load_agent(\n",
    "    agent_type, \n",
    "    f\"./results/{agent_type}/{agent_type}_offline_final\",\n",
    "    state_dim, action_dim, action_high, device\n",
    ")\n",
    "\n",
    "# Fine-tune the agent\n",
    "fine_tuning_stats = online_fine_tune(\n",
    "    agent=agent,\n",
    "    env=env,\n",
    "    n_episodes=100,\n",
    "    max_steps=200,\n",
    "    batch_size=64,\n",
    "    buffer_size=10000,\n",
    "    init_exploration=0.3,\n",
    "    final_exploration=0.1,\n",
    "    save_dir=f\"./results/fine_tuned_{agent_type}\",\n",
    "    save_interval=10,\n",
    "    eval_interval=5,\n",
    "    eval_episodes=3,\n",
    "    render=False,\n",
    "    device=device,\n",
    "    verbose=True\n",
    ")"
   ]
  },
  {
   "cell_type": "markdown",
   "metadata": {},
   "source": [
    "### Step 6: Evaluate and Compare all Approaches\n",
    "\n",
    "Comprehensitvely evalaute all controllers on various setpoint tracking scenarios:"
   ]
  },
  {
   "cell_type": "code",
   "execution_count": 6,
   "metadata": {},
   "outputs": [
    {
     "name": "stdout",
     "output_type": "stream",
     "text": [
      "Loading Static PID gains from ./results/static_pid/optimal_pid_gains.npy\n",
      "Error loading Static PID gains: [Errno 2] No such file or directory: './results/static_pid/optimal_pid_gains.npy'\n",
      "Loading TD3 model from ./results/td3/td3_offline_final\n",
      "Error loading TD3 model: [Errno 2] No such file or directory: './results/td3/td3_offline_final'\n",
      "Loading SAC model from ./results/sac/sac_offline_final\n",
      "Error loading SAC model: [Errno 2] No such file or directory: './results/sac/sac_offline_final'\n",
      "Loading CIRL model from ./results/cirl/cirl_offline_final\n",
      "Error loading CIRL model: [Errno 2] No such file or directory: './results/cirl/cirl_offline_final'\n",
      "Loading PSO policy from ./results/pso/best_policy.npy\n",
      "Error loading PSO policy: [Errno 2] No such file or directory: './results/pso/best_policy.npy'\n",
      "\n",
      "Evaluation complete. Results saved to ./results/evaluation/evaluation_results.pkl\n",
      "No evaluation results available. Run evaluate_setpoint_tracking first.\n",
      "No evaluation results available. Run evaluate_setpoint_tracking first.\n",
      "No evaluation results available. Run evaluate_setpoint_tracking first.\n",
      "No evaluation results available. Run evaluate_setpoint_tracking first.\n",
      "No evaluation results available. Run evaluate_setpoint_tracking first.\n",
      "No evaluation results available. Run evaluate_setpoint_tracking first.\n",
      "No evaluation results available. Run evaluate_setpoint_tracking first.\n",
      "No evaluation results available. Run evaluate_setpoint_tracking first.\n",
      "No evaluation results available. Run evaluate_setpoint_tracking first.\n",
      "No evaluation results available. Run evaluate_setpoint_tracking first.\n",
      "No evaluation results available. Run evaluate_setpoint_tracking first.\n",
      "No evaluation results available. Run evaluate_setpoint_tracking first.\n",
      "No evaluation results available. Run evaluate_setpoint_tracking first.\n",
      "No evaluation results available. Run evaluate_setpoint_tracking first.\n",
      "No evaluation results available. Run evaluate_setpoint_tracking first.\n",
      "No evaluation results available. Run evaluate_setpoint_tracking first.\n",
      "No evaluation results available. Run evaluate_setpoint_tracking first.\n",
      "No evaluation results available. Run evaluate_setpoint_tracking first.\n",
      "No evaluation results available. Run evaluate_setpoint_tracking first.\n",
      "None\n"
     ]
    }
   ],
   "source": [
    "from evaluate_controllers import evaluate_all_controllers\n",
    "\n",
    "# Run evaluation with all controllers\n",
    "evaluator = evaluate_all_controllers(\n",
    "    static_pid_path=\"./results/static_pid/optimal_pid_gains.npy\",\n",
    "    td3_path=\"./results/td3/td3_offline_final\",\n",
    "    sac_path=\"./results/sac/sac_offline_final\",\n",
    "    cirl_path=\"./results/cirl/cirl_offline_final\",\n",
    "    pso_path=\"./results/pso/best_policy.npy\",  # If PSO was run\n",
    "    save_dir=\"./results/evaluation\",\n",
    "    difficulty=\"easy\",  # Choose from: \"easy\", \"medium\", \"hard\", \"extreme\"\n",
    "    n_episodes=5,\n",
    "    render=False,\n",
    "    verbose=True\n",
    ")\n",
    "\n",
    "# Generate setpoint tracking plots\n",
    "for scenario in [\"Increasing\", \"Decreasing\", \"Peak\", \"Valley\", \"Step\", \"Random\"]:\n",
    "    evaluator.plot_setpoint_tracking(scenario, save_plots=True, show_plots=True)\n",
    "\n",
    "# Generate comparative metrics plots\n",
    "evaluator.plot_comparative_metrics(save_plots=True, show_plots=True)\n",
    "evaluator.plot_controller_heatmap(metric=\"reward\", save_plots=True, show_plots=True)\n",
    "evaluator.plot_controller_heatmap(metric=\"mse\", save_plots=True, show_plots=True)\n",
    "\n",
    "# Generate statistical report\n",
    "report = evaluator.generate_statistical_report(baseline_controller=\"Static PID\")\n",
    "print(report)"
   ]
  },
  {
   "cell_type": "code",
   "execution_count": null,
   "metadata": {},
   "outputs": [],
   "source": []
  }
 ],
 "metadata": {
  "kernelspec": {
   "display_name": "base",
   "language": "python",
   "name": "python3"
  },
  "language_info": {
   "codemirror_mode": {
    "name": "ipython",
    "version": 3
   },
   "file_extension": ".py",
   "mimetype": "text/x-python",
   "name": "python",
   "nbconvert_exporter": "python",
   "pygments_lexer": "ipython3",
   "version": "3.11.5"
  }
 },
 "nbformat": 4,
 "nbformat_minor": 2
}
